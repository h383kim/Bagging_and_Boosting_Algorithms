{
 "cells": [
  {
   "cell_type": "code",
   "execution_count": null,
   "id": "4962628e-566b-44e8-9867-6f815c1b2374",
   "metadata": {},
   "outputs": [],
   "source": [
    "import numpy as np\n",
    "import xgboost as xgb\n",
    "from sklearn.datasets import fetch_california_housing\n",
    "from sklearn.model_selection import train_test_split\n",
    "from sklearn.metrics import mean_squared_error\n",
    "\n",
    "# Load the dataset\n",
    "data = fetch_california_housing()\n",
    "X = data.data\n",
    "y = data.target\n",
    "\n",
    "# Split into training and testing datasets\n",
    "X_train, X_test, y_train, y_test = train_test_split(X, y, test_size=0.2, random_state=42)\n",
    "\n",
    "# Convert the dataset into DMatrix, an optimized data structure in XGBoost\n",
    "dtrain = xgb.DMatrix(X_train, label=y_train, feature_names=data.feature_names)\n",
    "dtest = xgb.DMatrix(X_test, label=y_test, feature_names=data.feature_names)\n",
    "\n",
    "# Set up the parameters for training\n",
    "params = {\n",
    "    'objective': 'reg:squarederror',  # Regression objective\n",
    "    'eval_metric': 'rmse',            # Evaluation metric\n",
    "    'learning_rate': 0.1,\n",
    "    'max_depth': 3,\n",
    "    'seed': 42\n",
    "}\n",
    "\n",
    "# Train the model\n",
    "num_rounds = 100\n",
    "evals = [(dtrain, 'train'), (dtest, 'eval')]\n",
    "bst = xgb.train(params, dtrain, num_rounds, evals=evals, early_stopping_rounds=10)\n",
    "\n",
    "# Make predictions\n",
    "y_pred = bst.predict(dtest)\n",
    "\n",
    "# Evaluate the model\n",
    "mse = mean_squared_error(y_test, y_pred)\n",
    "print(\"Mean Squared Error:\", mse)\n"
   ]
  },
  {
   "cell_type": "code",
   "execution_count": null,
   "id": "0703a99a-ced3-49ce-aba8-035486e76a65",
   "metadata": {},
   "outputs": [],
   "source": [
    "from xgboost import XGBClassifier\n",
    "from sklearn.metrics import accuracy_score\n",
    "\n",
    "# Split train/test dataset\n",
    "X_train, X_test, y_train, y_test = train_test_split(data.data, data.target, test_size=0.3, random_state=42)\n",
    "\n",
    "# Initialize the model\n",
    "xgbc = XGBClassifier(\n",
    "    n_estimators=100,\n",
    "    learning_rate=0.1,\n",
    "    max_depth=3,\n",
    "    objective='multi:softprob',\n",
    "    num_class=3,\n",
    "    seed=42\n",
    ")\n",
    "\n",
    "# Fit the model\n",
    "xgbc.fit(\n",
    "    X_train, y_train,\n",
    "    early_stopping_rounds=10,\n",
    "    eval_set=[(X_test, y_test)],\n",
    "    verbose=False\n",
    ")\n",
    "\n",
    "# Make predictions\n",
    "y_pred = xgbc.predict(X_test)\n",
    "\n",
    "# Evaluate the model\n",
    "accuracy = accuracy_score(y_test, y_pred)\n",
    "print(\"Accuracy:\", accuracy)"
   ]
  },
  {
   "cell_type": "code",
   "execution_count": 3,
   "id": "b93b9590-29c1-4992-a7ec-cca657e087bb",
   "metadata": {},
   "outputs": [
    {
     "name": "stdout",
     "output_type": "stream",
     "text": [
      "Name: xgboost\n",
      "Version: 2.1.2\n",
      "Summary: XGBoost Python Package\n",
      "Home-page: \n",
      "Author: \n",
      "Author-email: Hyunsu Cho <chohyu01@cs.washington.edu>, Jiaming Yuan <jm.yuan@outlook.com>\n",
      "License: Apache-2.0\n",
      "Location: /Users/h383kim/miniforge3/envs/env/lib/python3.8/site-packages\n",
      "Requires: numpy, scipy\n",
      "Required-by: \n"
     ]
    }
   ],
   "source": [
    "!pip show xgboost"
   ]
  }
 ],
 "metadata": {
  "kernelspec": {
   "display_name": "Python (env)",
   "language": "python",
   "name": "env"
  },
  "language_info": {
   "codemirror_mode": {
    "name": "ipython",
    "version": 3
   },
   "file_extension": ".py",
   "mimetype": "text/x-python",
   "name": "python",
   "nbconvert_exporter": "python",
   "pygments_lexer": "ipython3",
   "version": "3.8.19"
  }
 },
 "nbformat": 4,
 "nbformat_minor": 5
}
